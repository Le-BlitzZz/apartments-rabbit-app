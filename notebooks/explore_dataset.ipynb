{
 "cells": [
  {
   "cell_type": "code",
   "execution_count": 1,
   "id": "4cea550d",
   "metadata": {},
   "outputs": [],
   "source": [
    "import numpy as np\n",
    "import pandas as pd"
   ]
  },
  {
   "cell_type": "code",
   "execution_count": 2,
   "id": "6fb4a1e0",
   "metadata": {},
   "outputs": [
    {
     "name": "stdout",
     "output_type": "stream",
     "text": [
      "<class 'pandas.core.frame.DataFrame'>\n",
      "RangeIndex: 21501 entries, 0 to 21500\n",
      "Data columns (total 28 columns):\n",
      " #   Column                Non-Null Count  Dtype  \n",
      "---  ------                --------------  -----  \n",
      " 0   id                    21501 non-null  object \n",
      " 1   city                  21501 non-null  object \n",
      " 2   type                  17104 non-null  object \n",
      " 3   squareMeters          21501 non-null  float64\n",
      " 4   rooms                 21501 non-null  float64\n",
      " 5   floor                 17928 non-null  float64\n",
      " 6   floorCount            21292 non-null  float64\n",
      " 7   buildYear             18121 non-null  float64\n",
      " 8   latitude              21501 non-null  float64\n",
      " 9   longitude             21501 non-null  float64\n",
      " 10  centreDistance        21501 non-null  float64\n",
      " 11  poiCount              21501 non-null  float64\n",
      " 12  schoolDistance        21490 non-null  float64\n",
      " 13  clinicDistance        21438 non-null  float64\n",
      " 14  postOfficeDistance    21481 non-null  float64\n",
      " 15  kindergartenDistance  21482 non-null  float64\n",
      " 16  restaurantDistance    21470 non-null  float64\n",
      " 17  collegeDistance       20917 non-null  float64\n",
      " 18  pharmacyDistance      21471 non-null  float64\n",
      " 19  ownership             21501 non-null  object \n",
      " 20  buildingMaterial      12709 non-null  object \n",
      " 21  condition             5580 non-null   object \n",
      " 22  hasParkingSpace       21501 non-null  object \n",
      " 23  hasBalcony            21501 non-null  object \n",
      " 24  hasElevator           20541 non-null  object \n",
      " 25  hasSecurity           21501 non-null  object \n",
      " 26  hasStorageRoom        21501 non-null  object \n",
      " 27  price                 21501 non-null  int64  \n",
      "dtypes: float64(16), int64(1), object(11)\n",
      "memory usage: 4.6+ MB\n"
     ]
    }
   ],
   "source": [
    "apartments = \"../datasets/apartments.csv\"\n",
    "apartments_df = pd.read_csv(apartments)\n",
    "apartments_df.info()"
   ]
  },
  {
   "cell_type": "code",
   "execution_count": 4,
   "id": "48005e5a",
   "metadata": {},
   "outputs": [
    {
     "name": "stdout",
     "output_type": "stream",
     "text": [
      "id: ['811891f98a870dfd6e414374a0a85560' 'adaf636d0c44d8d9325bce42403eefee'\n",
      " '9b957bd60885a469c96f17b58a914f4b' ... 'bb19da639a2de8bba49be2ca49053c87'\n",
      " '1e7f4f1fdfea31eb84e071d697839632' '60fcbfa2a2a48ebcc2e554efba7f2729']\n",
      "city: ['szczecin' 'gdynia' 'krakow' 'poznan' 'bialystok' 'gdansk' 'wroclaw'\n",
      " 'radom' 'rzeszow' 'lodz' 'katowice' 'lublin' 'czestochowa' 'warszawa'\n",
      " 'bydgoszcz']\n",
      "type: ['blockOfFlats' 'apartmentBuilding' 'tenement' nan]\n",
      "squareMeters: [ 47.    88.22 117.   ...  28.41 100.76 108.96]\n",
      "rooms: [2. 3. 5. 1. 4. 6.]\n",
      "floor: [ 6.  1.  4.  7. nan  3.  2.  9.  5. 10. 11.  8. 12. 13. 14. 17. 16. 15.\n",
      " 18. 21. 24. 20. 25. 19. 22. 29.]\n",
      "floorCount: [12.  2.  4.  7. 11.  3.  5.  6. 10.  1.  8. 27. nan 28. 18.  9. 17. 16.\n",
      " 15. 13. 14. 20. 23. 19. 24. 25. 29. 22. 21. 26.]\n",
      "buildYear: [1981. 2000.   nan 1963. 2018. 1997. 1930. 1970. 1960. 1980. 1950. 2012.\n",
      " 2013. 1900. 1985. 2010. 2003. 1979. 2020. 1977. 1995. 1967. 2007. 2005.\n",
      " 1945. 1920. 1978. 1936. 2022. 2001. 2017. 1971. 1939. 1992. 1987. 2024.\n",
      " 2023. 1968. 1929. 1935. 1940. 1994. 1990. 1984. 2011. 1969. 1910. 1973.\n",
      " 2009. 1976. 1998. 1925. 2016. 2008. 1986. 1961. 1991. 2015. 1964. 1999.\n",
      " 1928. 1904. 1937. 1938. 1932. 1988. 2019. 1993. 1962. 2014. 1895. 1996.\n",
      " 1949. 2006. 2004. 2021. 1989. 1909. 1872. 2002. 1956. 1958. 1933. 1972.\n",
      " 1886. 1959. 1918. 1914. 1983. 1905. 1889. 1873. 1907. 1870. 1954. 1974.\n",
      " 1948. 1906. 1927. 1975. 1955. 1952. 1953. 1966. 1926. 1934. 1965. 1957.\n",
      " 1982. 1931. 1890. 1897. 1913. 1893. 1896. 1915. 1882. 1941. 1912. 1850.\n",
      " 1892. 1860. 1903. 1911. 1943. 1919. 1902. 1891. 1899. 1898. 1946. 1922.\n",
      " 1942. 1921. 1880. 1887. 1923. 1908. 1951. 1924. 1901. 1888. 1865. 1947.\n",
      " 1861. 1917. 1875. 1856. 1894. 1879. 1866. 1916. 1877. 1944. 1852.]\n",
      "latitude: [53.4285438  53.4490931  53.44309575 ... 53.124655   53.131748\n",
      " 53.129657  ]\n",
      "longitude: [14.5528116 14.5168436 14.5613475 ... 18.008459  18.000648  18.003888 ]\n",
      "centreDistance: [ 0.79  4.09  2.19 ... 10.33 13.19 14.9 ]\n",
      "poiCount: [ 67.   0.  10.  39.   7.  14.  15.  18.  25.   5.   9.  47.   6.  20.\n",
      "   1.   4.  13.  53.   2.  16.   8.  26.  19.  76.  61.  60.  31.  23.\n",
      "  54.  17.  65.  32.  84.  75.  11.  49.  12.  72.  35.  63.  52.  21.\n",
      "  51.   3.  68.  37.  59.  64.  66.  29.  80.  43.  36.  74.  27.  55.\n",
      "  83.  71.  48.  77.  87.  24.  58.  73.  57.  85.  40.  79.  81.  22.\n",
      "  46.  33.  62.  69.  30.  34.  42.  70.  38.  28.  56.  45. 113. 144.\n",
      " 153. 155. 140. 115.  94. 180. 142. 183. 196. 101.  44. 141. 123.  89.\n",
      " 189. 110. 117. 171. 139. 143. 102. 121. 199. 104. 197. 125. 151. 194.\n",
      " 185. 120. 129.  90. 177. 105.  50. 198. 119. 124. 128. 118.  78. 107.\n",
      " 133. 181. 116. 210. 127. 202. 146. 145.  98.  97.  86. 134. 184. 150.\n",
      " 147. 173. 172. 188. 148.  92. 179. 158. 182. 212. 130. 152.  41. 208.\n",
      " 106. 109. 100.  91.  99.  96. 111.  95. 126. 131. 132. 114. 137.  88.\n",
      "  93. 135. 122. 156. 112. 138. 166. 136. 103.  82. 108.]\n",
      "schoolDistance: [0.288 0.509 0.216 ... 0.016 0.776 1.078]\n",
      "clinicDistance: [0.285 1.039 0.611 ... 2.097 1.868 1.45 ]\n",
      "postOfficeDistance: [0.268 0.998 0.743 ... 1.653 1.159 1.102]\n",
      "kindergartenDistance: [0.245 0.676 0.28  ... 0.977 1.054 1.272]\n",
      "restaurantDistance: [0.068 0.661 0.298 ... 1.746 1.088 0.943]\n",
      "collegeDistance: [0.593 1.192 1.522 ... 1.619 1.678 0.045]\n",
      "pharmacyDistance: [8.500e-02 6.680e-01 2.290e-01 ... 1.731e+00 1.000e-03 1.732e+00]\n",
      "ownership: ['condominium' 'udział' 'cooperative']\n",
      "buildingMaterial: ['concreteSlab' 'brick' nan]\n",
      "condition: [nan 'premium' 'low']\n",
      "hasParkingSpace: ['no' 'yes']\n",
      "hasBalcony: ['yes' 'no']\n",
      "hasElevator: ['yes' 'no' nan]\n",
      "hasSecurity: ['no' 'yes']\n",
      "hasStorageRoom: ['yes' 'no']\n",
      "price: [ 449000  950000 1099000 ...  422500  239900  208035]\n"
     ]
    }
   ],
   "source": [
    "for col in apartments_df.columns:\n",
    "    print(f\"{col}: {apartments_df[col].unique()}\")"
   ]
  },
  {
   "cell_type": "code",
   "execution_count": 8,
   "id": "e179c1a1",
   "metadata": {},
   "outputs": [
    {
     "name": "stdout",
     "output_type": "stream",
     "text": [
      "id: False\n"
     ]
    }
   ],
   "source": [
    "print(f\"id: {apartments_df['id'].isnull().any()}\")"
   ]
  },
  {
   "cell_type": "code",
   "execution_count": 9,
   "id": "274c35f3",
   "metadata": {},
   "outputs": [
    {
     "name": "stdout",
     "output_type": "stream",
     "text": [
      "id: False\n",
      "city: False\n",
      "type: True\n",
      "squareMeters: False\n",
      "rooms: False\n",
      "floor: True\n",
      "floorCount: True\n",
      "buildYear: True\n",
      "latitude: False\n",
      "longitude: False\n",
      "centreDistance: False\n",
      "poiCount: False\n",
      "schoolDistance: True\n",
      "clinicDistance: True\n",
      "postOfficeDistance: True\n",
      "kindergartenDistance: True\n",
      "restaurantDistance: True\n",
      "collegeDistance: True\n",
      "pharmacyDistance: True\n",
      "ownership: False\n",
      "buildingMaterial: True\n",
      "condition: True\n",
      "hasParkingSpace: False\n",
      "hasBalcony: False\n",
      "hasElevator: True\n",
      "hasSecurity: False\n",
      "hasStorageRoom: False\n",
      "price: False\n"
     ]
    }
   ],
   "source": [
    "for col in apartments_df.columns:\n",
    "    print(f\"{col}: {apartments_df[col].isnull().any()}\")"
   ]
  },
  {
   "cell_type": "code",
   "execution_count": 6,
   "id": "3badd122",
   "metadata": {},
   "outputs": [
    {
     "name": "stdout",
     "output_type": "stream",
     "text": [
      "id: False\n",
      "city: False\n",
      "type: False\n",
      "squareMeters: False\n",
      "rooms: False\n",
      "floor: False\n",
      "floorCount: False\n",
      "buildYear: False\n",
      "latitude: False\n",
      "longitude: False\n",
      "centreDistance: False\n",
      "poiCount: True\n",
      "schoolDistance: False\n",
      "clinicDistance: False\n",
      "postOfficeDistance: False\n",
      "kindergartenDistance: False\n",
      "restaurantDistance: False\n",
      "collegeDistance: False\n",
      "pharmacyDistance: False\n",
      "ownership: False\n",
      "buildingMaterial: False\n",
      "condition: False\n",
      "hasParkingSpace: False\n",
      "hasBalcony: False\n",
      "hasElevator: False\n",
      "hasSecurity: False\n",
      "hasStorageRoom: False\n",
      "price: False\n",
      "----------\n",
      "poiCount: False\n"
     ]
    }
   ],
   "source": [
    "for col in apartments_df.columns:\n",
    "    print(f\"{col}: {apartments_df[col].eq(0).any()}\")\n",
    "\n",
    "print(\"----------\")\n",
    "\n",
    "print(f\"poiCount: {apartments_df[\"poiCount\"].isnull().any()}\")"
   ]
  },
  {
   "cell_type": "code",
   "execution_count": 4,
   "id": "a843769b",
   "metadata": {},
   "outputs": [],
   "source": [
    "cleaned_df = apartments_df.drop(columns=[\"buildingMaterial\", \"condition\"])\n",
    "cleaned_df = cleaned_df[~cleaned_df.type.isnull()]\n",
    "cleaned_df = cleaned_df[~cleaned_df.isna().any(axis=1)]"
   ]
  },
  {
   "cell_type": "code",
   "execution_count": 9,
   "id": "1b45ec28",
   "metadata": {},
   "outputs": [
    {
     "data": {
      "text/plain": [
       "(11986, 26)"
      ]
     },
     "execution_count": 9,
     "metadata": {},
     "output_type": "execute_result"
    }
   ],
   "source": [
    "cleaned_df.shape"
   ]
  },
  {
   "cell_type": "code",
   "execution_count": 6,
   "id": "13d6ec17",
   "metadata": {},
   "outputs": [
    {
     "data": {
      "text/plain": [
       "0"
      ]
     },
     "execution_count": 6,
     "metadata": {},
     "output_type": "execute_result"
    }
   ],
   "source": [
    "cleaned_df.id.isnull().any().sum()"
   ]
  },
  {
   "cell_type": "code",
   "execution_count": 7,
   "id": "b6405f8c",
   "metadata": {},
   "outputs": [
    {
     "name": "stdout",
     "output_type": "stream",
     "text": [
      "id: 0\n",
      "city: 0\n",
      "type: 0\n",
      "squareMeters: 0\n",
      "rooms: 0\n",
      "floor: 0\n",
      "floorCount: 0\n",
      "buildYear: 0\n",
      "latitude: 0\n",
      "longitude: 0\n",
      "centreDistance: 0\n",
      "poiCount: 0\n",
      "schoolDistance: 0\n",
      "clinicDistance: 0\n",
      "postOfficeDistance: 0\n",
      "kindergartenDistance: 0\n",
      "restaurantDistance: 0\n",
      "collegeDistance: 0\n",
      "pharmacyDistance: 0\n",
      "ownership: 0\n",
      "hasParkingSpace: 0\n",
      "hasBalcony: 0\n",
      "hasElevator: 0\n",
      "hasSecurity: 0\n",
      "hasStorageRoom: 0\n",
      "price: 0\n"
     ]
    }
   ],
   "source": [
    "for col in cleaned_df.columns:\n",
    "    print(f\"{col}: {cleaned_df[col].isnull().sum()}\")"
   ]
  }
 ],
 "metadata": {
  "kernelspec": {
   "display_name": "Python 3",
   "language": "python",
   "name": "python3"
  },
  "language_info": {
   "codemirror_mode": {
    "name": "ipython",
    "version": 3
   },
   "file_extension": ".py",
   "mimetype": "text/x-python",
   "name": "python",
   "nbconvert_exporter": "python",
   "pygments_lexer": "ipython3",
   "version": "3.13.3"
  }
 },
 "nbformat": 4,
 "nbformat_minor": 5
}
